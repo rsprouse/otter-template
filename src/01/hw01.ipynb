{
 "cells": [
  {
   "cell_type": "raw",
   "id": "f4362daf",
   "metadata": {},
   "source": [
    "# ASSIGNMENT CONFIG\n",
    "solutions_pdf: false\n",
    "template_pdf: false\n",
    "requirements:\n",
    "    - pandas\n",
    "generate: \n",
    "    assignment_name: hw01   # Matches the assignment name in Gradescope\n",
    "    pdf: false\n",
    "    filtering: true\n",
    "    pagebreaks: true\n",
    "    zips: false\n",
    "#    course_id: 470873        # required\n",
    "#    assignment_id: 2488189    # required"
   ]
  },
  {
   "cell_type": "markdown",
   "id": "cb840896",
   "metadata": {},
   "source": [
    "# Homework 01\n",
    "\n",
    "This is the first homework."
   ]
  },
  {
   "cell_type": "code",
   "execution_count": null,
   "id": "c955bc17",
   "metadata": {},
   "outputs": [],
   "source": [
    "import pandas as pd"
   ]
  },
  {
   "cell_type": "raw",
   "id": "fcd0efd0",
   "metadata": {},
   "source": [
    "# BEGIN QUESTION\n",
    "name: 1_create_df\n",
    "points: 2"
   ]
  },
  {
   "cell_type": "markdown",
   "id": "cadd8346",
   "metadata": {},
   "source": [
    "Create an empty dataframe named `empty`."
   ]
  },
  {
   "cell_type": "raw",
   "id": "888863ac",
   "metadata": {},
   "source": [
    "# BEGIN SOLUTION"
   ]
  },
  {
   "cell_type": "code",
   "execution_count": null,
   "id": "b618aedc",
   "metadata": {},
   "outputs": [],
   "source": [
    "empty = pd.DataFrame({}) # SOLUTION"
   ]
  },
  {
   "cell_type": "raw",
   "id": "c70cd03f",
   "metadata": {},
   "source": [
    "# END SOLUTION"
   ]
  },
  {
   "cell_type": "raw",
   "id": "9d0bf1fb",
   "metadata": {},
   "source": [
    "# BEGIN TESTS"
   ]
  },
  {
   "cell_type": "code",
   "execution_count": null,
   "id": "dbb4243d",
   "metadata": {},
   "outputs": [],
   "source": [
    "assert(type(empty) == pd.core.frame.DataFrame)"
   ]
  },
  {
   "cell_type": "code",
   "execution_count": null,
   "id": "f6b53b44",
   "metadata": {},
   "outputs": [],
   "source": [
    "assert(len(empty) == 0)"
   ]
  },
  {
   "cell_type": "raw",
   "id": "ddc1aa74",
   "metadata": {},
   "source": [
    "# END TESTS"
   ]
  },
  {
   "cell_type": "raw",
   "id": "bfef01a5",
   "metadata": {},
   "source": [
    "# END QUESTION"
   ]
  },
  {
   "cell_type": "raw",
   "id": "51ba3ea6",
   "metadata": {},
   "source": [
    "# BEGIN QUESTION\n",
    "name: 2_create_2col_df\n",
    "points: 10"
   ]
  },
  {
   "cell_type": "markdown",
   "id": "83833a24",
   "metadata": {},
   "source": [
    "Create a dataframe of two columns named `t1` and `t2`. The `t1` values must be `0.0` and `0.1`, and the `t2` values must be `0.1` and `0.2`. Assign the dataframe to a variable named `df`."
   ]
  },
  {
   "cell_type": "raw",
   "id": "dfa0b657",
   "metadata": {},
   "source": [
    "# BEGIN SOLUTION"
   ]
  },
  {
   "cell_type": "code",
   "execution_count": null,
   "id": "31ba2d6a",
   "metadata": {},
   "outputs": [],
   "source": [
    "# Your solution here\n",
    "# BEGIN SOLUTION\n",
    "df = pd.DataFrame({\n",
    "    't1': [0.0, 0.1],\n",
    "    't2': [0.1, 0.2]\n",
    "})\n",
    "# END SOLUTION"
   ]
  },
  {
   "cell_type": "raw",
   "id": "4c4d7b97",
   "metadata": {},
   "source": [
    "# END SOLUTION"
   ]
  },
  {
   "cell_type": "raw",
   "id": "6cbfc608",
   "metadata": {},
   "source": [
    "# BEGIN TESTS"
   ]
  },
  {
   "cell_type": "code",
   "execution_count": null,
   "id": "1d8d7727",
   "metadata": {},
   "outputs": [],
   "source": [
    "assert(type(df) == pd.core.frame.DataFrame)"
   ]
  },
  {
   "cell_type": "code",
   "execution_count": null,
   "id": "f0d3dc53",
   "metadata": {},
   "outputs": [],
   "source": [
    "assert(set(df.columns) == set(['t1', 't2']))"
   ]
  },
  {
   "cell_type": "code",
   "execution_count": null,
   "id": "f1fdde8d",
   "metadata": {},
   "outputs": [],
   "source": [
    "assert((df['t1'] == [0.0, 0.1]).all())"
   ]
  },
  {
   "cell_type": "code",
   "execution_count": null,
   "id": "239d26ea",
   "metadata": {},
   "outputs": [],
   "source": [
    "assert((df['t2'] == [0.1, 0.2]).all())"
   ]
  },
  {
   "cell_type": "code",
   "execution_count": null,
   "id": "e570e6b3",
   "metadata": {},
   "outputs": [],
   "source": [
    "assert(len(df) == 2)"
   ]
  },
  {
   "cell_type": "raw",
   "id": "8fed1624",
   "metadata": {},
   "source": [
    "# END TESTS"
   ]
  },
  {
   "cell_type": "raw",
   "id": "e4c180b0",
   "metadata": {},
   "source": [
    "# END QUESTION"
   ]
  }
 ],
 "metadata": {
  "kernelspec": {
   "display_name": "Python 3 (ipykernel)",
   "language": "python",
   "name": "python3"
  },
  "language_info": {
   "codemirror_mode": {
    "name": "ipython",
    "version": 3
   },
   "file_extension": ".py",
   "mimetype": "text/x-python",
   "name": "python",
   "nbconvert_exporter": "python",
   "pygments_lexer": "ipython3",
   "version": "3.9.13"
  }
 },
 "nbformat": 4,
 "nbformat_minor": 5
}
