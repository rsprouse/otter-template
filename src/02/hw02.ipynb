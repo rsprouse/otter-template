{
 "cells": [
  {
   "cell_type": "raw",
   "id": "c8595b85",
   "metadata": {},
   "source": [
    "# ASSIGNMENT CONFIG\n",
    "solutions_pdf: false\n",
    "template_pdf: false\n",
    "requirements:\n",
    "    - pandas\n",
    "generate: \n",
    "    assignment_name: hw02   # Matches the assignment name in Gradescope\n",
    "    pdf: false\n",
    "    filtering: true\n",
    "    pagebreaks: true\n",
    "    zips: false\n",
    "#    course_id: 470873        # required\n",
    "#    assignment_id: 2488189    # required"
   ]
  },
  {
   "cell_type": "markdown",
   "id": "0d729321",
   "metadata": {},
   "source": [
    "## Homework 02\n",
    "\n",
    "This is the second homework."
   ]
  },
  {
   "cell_type": "code",
   "execution_count": 2,
   "id": "4aedad8c",
   "metadata": {},
   "outputs": [],
   "source": [
    "import pandas as pd\n",
    "import numpy as np"
   ]
  },
  {
   "cell_type": "raw",
   "id": "767a97e8",
   "metadata": {},
   "source": [
    "# BEGIN QUESTION\n",
    "name: 1_create_df\n",
    "points: 2"
   ]
  },
  {
   "cell_type": "markdown",
   "id": "5234aebf",
   "metadata": {},
   "source": [
    "Here is a dataframe named `df` in which the `fwd` column contains the integers `0` through `10`. The `rev` column descends from `0` to `-10`."
   ]
  },
  {
   "cell_type": "code",
   "execution_count": 6,
   "id": "1c39aa6b",
   "metadata": {},
   "outputs": [
    {
     "data": {
      "text/html": [
       "<div>\n",
       "<style scoped>\n",
       "    .dataframe tbody tr th:only-of-type {\n",
       "        vertical-align: middle;\n",
       "    }\n",
       "\n",
       "    .dataframe tbody tr th {\n",
       "        vertical-align: top;\n",
       "    }\n",
       "\n",
       "    .dataframe thead th {\n",
       "        text-align: right;\n",
       "    }\n",
       "</style>\n",
       "<table border=\"1\" class=\"dataframe\">\n",
       "  <thead>\n",
       "    <tr style=\"text-align: right;\">\n",
       "      <th></th>\n",
       "      <th>fwd</th>\n",
       "      <th>rev</th>\n",
       "    </tr>\n",
       "  </thead>\n",
       "  <tbody>\n",
       "    <tr>\n",
       "      <th>0</th>\n",
       "      <td>0</td>\n",
       "      <td>0</td>\n",
       "    </tr>\n",
       "    <tr>\n",
       "      <th>1</th>\n",
       "      <td>1</td>\n",
       "      <td>-1</td>\n",
       "    </tr>\n",
       "    <tr>\n",
       "      <th>2</th>\n",
       "      <td>2</td>\n",
       "      <td>-2</td>\n",
       "    </tr>\n",
       "    <tr>\n",
       "      <th>3</th>\n",
       "      <td>3</td>\n",
       "      <td>-3</td>\n",
       "    </tr>\n",
       "    <tr>\n",
       "      <th>4</th>\n",
       "      <td>4</td>\n",
       "      <td>-4</td>\n",
       "    </tr>\n",
       "    <tr>\n",
       "      <th>5</th>\n",
       "      <td>5</td>\n",
       "      <td>-5</td>\n",
       "    </tr>\n",
       "    <tr>\n",
       "      <th>6</th>\n",
       "      <td>6</td>\n",
       "      <td>-6</td>\n",
       "    </tr>\n",
       "    <tr>\n",
       "      <th>7</th>\n",
       "      <td>7</td>\n",
       "      <td>-7</td>\n",
       "    </tr>\n",
       "    <tr>\n",
       "      <th>8</th>\n",
       "      <td>8</td>\n",
       "      <td>-8</td>\n",
       "    </tr>\n",
       "    <tr>\n",
       "      <th>9</th>\n",
       "      <td>9</td>\n",
       "      <td>-9</td>\n",
       "    </tr>\n",
       "  </tbody>\n",
       "</table>\n",
       "</div>"
      ],
      "text/plain": [
       "   fwd  rev\n",
       "0    0    0\n",
       "1    1   -1\n",
       "2    2   -2\n",
       "3    3   -3\n",
       "4    4   -4\n",
       "5    5   -5\n",
       "6    6   -6\n",
       "7    7   -7\n",
       "8    8   -8\n",
       "9    9   -9"
      ]
     },
     "execution_count": 6,
     "metadata": {},
     "output_type": "execute_result"
    }
   ],
   "source": [
    "df = pd.DataFrame({\n",
    "    'fwd': np.arange(10),\n",
    "    'rev': np.arange(0, -10, -1)\n",
    "})\n",
    "df"
   ]
  },
  {
   "cell_type": "markdown",
   "id": "15e29f38",
   "metadata": {},
   "source": [
    "Your job is to sort the rows of `df` using the values in the `rev` column. Assign the result to `sortdf`."
   ]
  },
  {
   "cell_type": "raw",
   "id": "96b14ea9",
   "metadata": {},
   "source": [
    "# BEGIN SOLUTION"
   ]
  },
  {
   "cell_type": "code",
   "execution_count": 9,
   "id": "3ef2b2f1",
   "metadata": {},
   "outputs": [],
   "source": [
    "sortdf = df.sort_values('rev')"
   ]
  },
  {
   "cell_type": "raw",
   "id": "e88452b2",
   "metadata": {},
   "source": [
    "# END SOLUTION"
   ]
  },
  {
   "cell_type": "raw",
   "id": "d7a8f8b7",
   "metadata": {},
   "source": [
    "# BEGIN TESTS"
   ]
  },
  {
   "cell_type": "code",
   "execution_count": 24,
   "id": "db15789d",
   "metadata": {},
   "outputs": [],
   "source": [
    "try:\n",
    "    assert((sortdf['fwd'] == df['fwd'].iloc[::-1]).all())\n",
    "    assert((sortdf['rev'] == df['rev'].iloc[::-1]).all())\n",
    "except AssertionError:\n",
    "    print(\"sortdf is not properly sorted.\")"
   ]
  },
  {
   "cell_type": "raw",
   "id": "5f3550a1",
   "metadata": {},
   "source": [
    "# END TESTS"
   ]
  },
  {
   "cell_type": "raw",
   "id": "3d8f048a",
   "metadata": {},
   "source": [
    "# END QUESTION"
   ]
  }
 ],
 "metadata": {
  "kernelspec": {
   "display_name": "Python 3 (ipykernel)",
   "language": "python",
   "name": "python3"
  },
  "language_info": {
   "codemirror_mode": {
    "name": "ipython",
    "version": 3
   },
   "file_extension": ".py",
   "mimetype": "text/x-python",
   "name": "python",
   "nbconvert_exporter": "python",
   "pygments_lexer": "ipython3",
   "version": "3.10.6"
  }
 },
 "nbformat": 4,
 "nbformat_minor": 5
}
