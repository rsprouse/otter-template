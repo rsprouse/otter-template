{
 "cells": [
  {
   "cell_type": "code",
   "execution_count": null,
   "id": "cd0d045c",
   "metadata": {
    "deletable": false,
    "editable": false
   },
   "outputs": [],
   "source": [
    "# Initialize Otter\n",
    "import otter\n",
    "grader = otter.Notebook(\"hw02.ipynb\")"
   ]
  },
  {
   "cell_type": "markdown",
   "id": "082e73d8",
   "metadata": {},
   "source": [
    "## Homework 02\n",
    "\n",
    "This is the second homework."
   ]
  },
  {
   "cell_type": "code",
   "execution_count": null,
   "id": "f3766852",
   "metadata": {},
   "outputs": [],
   "source": [
    "import pandas as pd\n",
    "import numpy as np"
   ]
  },
  {
   "cell_type": "markdown",
   "id": "fc4e570d",
   "metadata": {},
   "source": [
    "Here is a dataframe named `df` in which the `fwd` column contains the integers `0` through `10`. The `rev` column descends from `0` to `-10`."
   ]
  },
  {
   "cell_type": "code",
   "execution_count": null,
   "id": "c4d0aa05",
   "metadata": {},
   "outputs": [],
   "source": [
    "df = pd.DataFrame({\n",
    "    'fwd': np.arange(10),\n",
    "    'rev': np.arange(0, -10, -1)\n",
    "})\n",
    "df"
   ]
  },
  {
   "cell_type": "markdown",
   "id": "cb753364",
   "metadata": {},
   "source": [
    "Your job is to sort the rows of `df` using the values in the `rev` column. Assign the result to `sortdf`."
   ]
  },
  {
   "cell_type": "code",
   "execution_count": null,
   "id": "d8bf7a4f",
   "metadata": {
    "tags": []
   },
   "outputs": [],
   "source": [
    "sortdf = ..."
   ]
  },
  {
   "cell_type": "code",
   "execution_count": null,
   "id": "01a66f7b",
   "metadata": {
    "deletable": false,
    "editable": false
   },
   "outputs": [],
   "source": [
    "grader.check(\"1_create_df\")"
   ]
  },
  {
   "cell_type": "markdown",
   "id": "279f213e",
   "metadata": {
    "deletable": false,
    "editable": false
   },
   "source": [
    "## Submission\n",
    "\n",
    "Make sure you have run all cells in your notebook in order before running the cell below, so that all images/graphs appear in the output. The cell below will generate a zip file for you to submit. **Please save before exporting!**"
   ]
  },
  {
   "cell_type": "code",
   "execution_count": null,
   "id": "90e937a0",
   "metadata": {
    "deletable": false,
    "editable": false
   },
   "outputs": [],
   "source": [
    "# Save your notebook first, then run this cell to export your submission.\n",
    "grader.export(run_tests=True)"
   ]
  },
  {
   "cell_type": "markdown",
   "id": "3a7faeca",
   "metadata": {},
   "source": [
    " "
   ]
  }
 ],
 "metadata": {
  "kernelspec": {
   "display_name": "Python 3 (ipykernel)",
   "language": "python",
   "name": "python3"
  },
  "language_info": {
   "codemirror_mode": {
    "name": "ipython",
    "version": 3
   },
   "file_extension": ".py",
   "mimetype": "text/x-python",
   "name": "python",
   "nbconvert_exporter": "python",
   "pygments_lexer": "ipython3",
   "version": "3.10.6"
  },
  "otter": {
   "OK_FORMAT": true,
   "tests": {
    "1_create_df": {
     "name": "1_create_df",
     "points": 2,
     "suites": [
      {
       "cases": [
        {
         "code": ">>> try:\n...     assert((sortdf['fwd'] == df['fwd'].iloc[::-1]).all())\n...     assert((sortdf['rev'] == df['rev'].iloc[::-1]).all())\n... except AssertionError:\n...     print(\"sortdf is not properly sorted.\")\n",
         "hidden": false,
         "locked": false
        }
       ],
       "scored": true,
       "setup": "",
       "teardown": "",
       "type": "doctest"
      }
     ]
    }
   }
  }
 },
 "nbformat": 4,
 "nbformat_minor": 5
}
