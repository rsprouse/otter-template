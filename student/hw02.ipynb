{
 "cells": [
  {
   "cell_type": "code",
   "execution_count": null,
   "id": "ee1f1c98",
   "metadata": {
    "deletable": false,
    "editable": false
   },
   "outputs": [],
   "source": [
    "# Initialize Otter\n",
    "import otter\n",
    "grader = otter.Notebook(\"hw02.ipynb\")"
   ]
  },
  {
   "cell_type": "markdown",
   "id": "67ed32d3",
   "metadata": {},
   "source": [
    "## Homework 02\n",
    "\n",
    "This is the second homework."
   ]
  },
  {
   "cell_type": "code",
   "execution_count": null,
   "id": "2f48abf2",
   "metadata": {},
   "outputs": [],
   "source": [
    "import pandas as pd\n",
    "import numpy as np"
   ]
  },
  {
   "cell_type": "markdown",
   "id": "bcbc7db6",
   "metadata": {},
   "source": [
    "Here is a dataframe named `df` in which the `fwd` column contains the integers `0` through `10`. The `rev` column descends from `0` to `-10`."
   ]
  },
  {
   "cell_type": "code",
   "execution_count": null,
   "id": "5f9eb44d",
   "metadata": {},
   "outputs": [],
   "source": [
    "df = pd.DataFrame({\n",
    "    'fwd': np.arange(10),\n",
    "    'rev': np.arange(0, -10, -1)\n",
    "})\n",
    "df"
   ]
  },
  {
   "cell_type": "markdown",
   "id": "a974bd90",
   "metadata": {},
   "source": [
    "Your job is to sort the rows of `df` using the values in the `rev` column. Assign the result to `sortdf`."
   ]
  },
  {
   "cell_type": "code",
   "execution_count": null,
   "id": "ced8a161",
   "metadata": {
    "tags": []
   },
   "outputs": [],
   "source": [
    "sortdf = df.sort_values('rev')"
   ]
  },
  {
   "cell_type": "code",
   "execution_count": null,
   "id": "8a3df6ca",
   "metadata": {
    "deletable": false,
    "editable": false
   },
   "outputs": [],
   "source": [
    "grader.check(\"1_create_df\")"
   ]
  },
  {
   "cell_type": "markdown",
   "id": "0ad02b6f",
   "metadata": {
    "deletable": false,
    "editable": false
   },
   "source": [
    "## Submission\n",
    "\n",
    "Make sure you have run all cells in your notebook in order before running the cell below, so that all images/graphs appear in the output. The cell below will generate a zip file for you to submit. **Please save before exporting!**"
   ]
  },
  {
   "cell_type": "code",
   "execution_count": null,
   "id": "0ab546a1",
   "metadata": {
    "deletable": false,
    "editable": false
   },
   "outputs": [],
   "source": [
    "# Save your notebook first, then run this cell to export your submission.\n",
    "grader.export(run_tests=True)"
   ]
  },
  {
   "cell_type": "markdown",
   "id": "c4bd077d",
   "metadata": {},
   "source": [
    " "
   ]
  }
 ],
 "metadata": {
  "kernelspec": {
   "display_name": "Python 3 (ipykernel)",
   "language": "python",
   "name": "python3"
  },
  "language_info": {
   "codemirror_mode": {
    "name": "ipython",
    "version": 3
   },
   "file_extension": ".py",
   "mimetype": "text/x-python",
   "name": "python",
   "nbconvert_exporter": "python",
   "pygments_lexer": "ipython3",
   "version": "3.10.6"
  },
  "otter": {
   "OK_FORMAT": true,
   "tests": {
    "1_create_df": {
     "name": "1_create_df",
     "points": 2,
     "suites": [
      {
       "cases": [
        {
         "code": ">>> try:\n...     assert((sortdf['fwd'] == df['fwd'].iloc[::-1]).all())\n...     assert((sortdf['rev'] == df['rev'].iloc[::-1]).all())\n... except AssertionError:\n...     print(\"sortdf is not properly sorted.\")\n",
         "hidden": false,
         "locked": false
        }
       ],
       "scored": true,
       "setup": "",
       "teardown": "",
       "type": "doctest"
      }
     ]
    }
   }
  }
 },
 "nbformat": 4,
 "nbformat_minor": 5
}
