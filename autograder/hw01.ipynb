{
 "cells": [
  {
   "cell_type": "code",
   "execution_count": null,
   "id": "ae2635d7",
   "metadata": {
    "deletable": false,
    "editable": false
   },
   "outputs": [],
   "source": [
    "# Initialize Otter\n",
    "import otter\n",
    "grader = otter.Notebook(\"hw01.ipynb\")"
   ]
  },
  {
   "cell_type": "markdown",
   "id": "5a099a8b",
   "metadata": {},
   "source": [
    "# Homework 01\n",
    "\n",
    "This is the first homework."
   ]
  },
  {
   "cell_type": "code",
   "execution_count": null,
   "id": "5f9b3c60",
   "metadata": {},
   "outputs": [],
   "source": [
    "import pandas as pd"
   ]
  },
  {
   "cell_type": "markdown",
   "id": "a3b9c18d",
   "metadata": {},
   "source": [
    "Create an empty dataframe named `empty`."
   ]
  },
  {
   "cell_type": "code",
   "execution_count": null,
   "id": "41f090ea",
   "metadata": {
    "tags": [
     "otter_assign_solution_cell"
    ]
   },
   "outputs": [],
   "source": [
    "empty = pd.DataFrame({}) # SOLUTION"
   ]
  },
  {
   "cell_type": "code",
   "execution_count": null,
   "id": "133e362a",
   "metadata": {
    "deletable": false,
    "editable": false
   },
   "outputs": [],
   "source": [
    "grader.check(\"1_create_df\")"
   ]
  },
  {
   "cell_type": "markdown",
   "id": "d2db6549",
   "metadata": {},
   "source": [
    "Create a dataframe of two columns named `t1` and `t2`. The `t1` values must be `0.0` and `0.1`, and the `t2` values must be `0.1` and `0.2`. Assign the dataframe to a variable named `df`."
   ]
  },
  {
   "cell_type": "code",
   "execution_count": null,
   "id": "6d20fa9c",
   "metadata": {
    "tags": [
     "otter_assign_solution_cell"
    ]
   },
   "outputs": [],
   "source": [
    "# Your solution here\n",
    "# BEGIN SOLUTION\n",
    "df = pd.DataFrame({\n",
    "    't1': [0.0, 0.1],\n",
    "    't2': [0.1, 0.2]\n",
    "})\n",
    "# END SOLUTION"
   ]
  },
  {
   "cell_type": "code",
   "execution_count": null,
   "id": "e741b59a",
   "metadata": {
    "deletable": false,
    "editable": false
   },
   "outputs": [],
   "source": [
    "grader.check(\"2_create_2col_df\")"
   ]
  },
  {
   "cell_type": "markdown",
   "id": "3580a6c8",
   "metadata": {
    "deletable": false,
    "editable": false
   },
   "source": [
    "## Submission\n",
    "\n",
    "Make sure you have run all cells in your notebook in order before running the cell below, so that all images/graphs appear in the output. The cell below will generate a zip file for you to submit. **Please save before exporting!**"
   ]
  },
  {
   "cell_type": "code",
   "execution_count": null,
   "id": "cf3f9479",
   "metadata": {
    "deletable": false,
    "editable": false
   },
   "outputs": [],
   "source": [
    "# Save your notebook first, then run this cell to export your submission.\n",
    "grader.export(run_tests=True)"
   ]
  },
  {
   "cell_type": "markdown",
   "id": "a245106e",
   "metadata": {},
   "source": [
    " "
   ]
  }
 ],
 "metadata": {
  "kernelspec": {
   "display_name": "Python 3 (ipykernel)",
   "language": "python",
   "name": "python3"
  },
  "language_info": {
   "codemirror_mode": {
    "name": "ipython",
    "version": 3
   },
   "file_extension": ".py",
   "mimetype": "text/x-python",
   "name": "python",
   "nbconvert_exporter": "python",
   "pygments_lexer": "ipython3",
   "version": "3.9.13"
  },
  "otter": {
   "OK_FORMAT": true,
   "tests": {
    "1_create_df": {
     "name": "1_create_df",
     "points": 2,
     "suites": [
      {
       "cases": [
        {
         "code": ">>> assert(type(empty) == pd.core.frame.DataFrame)\n",
         "hidden": false,
         "locked": false
        },
        {
         "code": ">>> assert(len(empty) == 0)\n",
         "hidden": false,
         "locked": false
        }
       ],
       "scored": true,
       "setup": "",
       "teardown": "",
       "type": "doctest"
      }
     ]
    },
    "2_create_2col_df": {
     "name": "2_create_2col_df",
     "points": 10,
     "suites": [
      {
       "cases": [
        {
         "code": ">>> assert(type(df) == pd.core.frame.DataFrame)\n",
         "hidden": false,
         "locked": false
        },
        {
         "code": ">>> assert(set(df.columns) == set(['t1', 't2']))\n",
         "hidden": false,
         "locked": false
        },
        {
         "code": ">>> assert((df['t1'] == [0.0, 0.1]).all())\n",
         "hidden": false,
         "locked": false
        },
        {
         "code": ">>> assert((df['t2'] == [0.1, 0.2]).all())\n",
         "hidden": false,
         "locked": false
        },
        {
         "code": ">>> assert(len(df) == 2)\n",
         "hidden": false,
         "locked": false
        }
       ],
       "scored": true,
       "setup": "",
       "teardown": "",
       "type": "doctest"
      }
     ]
    }
   }
  }
 },
 "nbformat": 4,
 "nbformat_minor": 5
}
